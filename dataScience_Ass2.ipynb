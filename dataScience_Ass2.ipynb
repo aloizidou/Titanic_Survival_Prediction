{
 "cells": [
  {
   "cell_type": "code",
   "execution_count": 187,
   "id": "2d265b1e",
   "metadata": {},
   "outputs": [
    {
     "name": "stdout",
     "output_type": "stream",
     "text": [
      "Training DataSet\n",
      "         V1        V2        V3        V4        V5        V6        V7  \\\n",
      "0  0.057251 -0.117296  1.166098 -0.290146  0.378500  0.118503  0.718407   \n",
      "1 -0.299707 -0.904430  1.100115 -3.328556  1.223457  0.470599  0.264523   \n",
      "2 -0.601448  0.160740  0.005578 -0.295077 -0.020659  0.742921  0.199073   \n",
      "3 -0.190938 -0.205359  2.142113 -0.187469 -0.154959  0.538567  0.457024   \n",
      "4  0.031576 -0.122682  0.196996 -0.820535  2.518562  2.220973  0.920531   \n",
      "\n",
      "         V8        V9       V10  ...       V21       V22       V23       V24  \\\n",
      "0 -0.188185  0.218020  0.561315  ... -0.045827  0.338948 -0.233355  0.098168   \n",
      "1 -0.023817  1.612745 -0.129787  ...  0.087319  1.230137 -0.233352 -2.492362   \n",
      "2  0.290432  0.198442  0.839104  ... -0.054693  0.064027 -0.339293 -2.210574   \n",
      "3 -0.010629  0.406575  0.294145  ... -0.044813  0.123519  0.017771  0.763533   \n",
      "4 -0.036027 -0.216609  0.569293  ... -0.071019  0.241484 -0.631164  1.554405   \n",
      "\n",
      "        V25       V26       V27       V28    Amount  Class  \n",
      "0 -0.464132 -0.773700 -0.193367  0.293982   5717.24      0  \n",
      "1  0.355684 -2.096437 -0.052040  0.198213  23490.52      0  \n",
      "2 -0.031412 -0.454515 -0.228195  0.215337  22749.61      0  \n",
      "3  0.338389 -0.623618 -0.284912 -0.011067  12148.52      0  \n",
      "4  1.857335 -0.431827 -0.370846 -0.536361  11616.55      0  \n",
      "\n",
      "[5 rows x 30 columns]\n",
      "-------------------------------------------------------------\n",
      "Testing DataSet\n",
      "         V1        V2        V3        V4        V5        V6        V7  \\\n",
      "0 -1.023458 -3.204926  0.235828 -0.856212  4.472986 -2.533559 -0.737455   \n",
      "1  1.417417 -0.665168  0.284367 -0.141793  0.099727  0.635548  0.272874   \n",
      "2 -0.309588  0.240780 -0.433269 -1.206772  1.798988  2.114084  0.049306   \n",
      "3  0.169019 -1.638135  0.178484 -0.696450 -0.267327 -0.030555  0.751916   \n",
      "4  0.264334 -0.084893  0.443330 -0.738979  0.575805 -0.170620  0.775896   \n",
      "\n",
      "         V8        V9       V10  ...       V21       V22       V23       V24  \\\n",
      "0 -0.726013  1.095595  1.634486  ...  0.008412 -2.108456 -2.121854  2.135010   \n",
      "1 -0.108214  0.949979  0.750669  ...  0.033587  0.722116  0.046274  1.472501   \n",
      "2 -0.361513  0.074215 -0.106470  ... -0.502247  0.998759  0.050521  0.988579   \n",
      "3 -0.271971  0.003485  0.684223  ... -0.098393 -0.983205 -0.682734  1.115538   \n",
      "4 -0.197400  1.393066  0.181767  ... -0.295526 -0.878496  0.141797  2.154826   \n",
      "\n",
      "        V25       V26       V27       V28    Amount  Class  \n",
      "0 -4.754880  0.755190  3.764863 -1.072355   6795.25      0  \n",
      "1 -0.370382 -1.576293 -0.208592 -0.131090  10233.37      0  \n",
      "2 -0.776680 -0.364288 -0.282574  0.486349   7442.13      0  \n",
      "3  0.059251  2.631337 -0.499281  0.209804   4458.75      0  \n",
      "4 -0.901146  0.120118 -0.006547  0.097042  14540.65      0  \n",
      "\n",
      "[5 rows x 30 columns]\n"
     ]
    }
   ],
   "source": [
    "#Checking out the data, so that we have a brief idea..\n",
    "import pandas as pd\n",
    "\n",
    "# Load the training and test datasets\n",
    "train_data = pd.read_csv('dataset_train.csv')\n",
    "test_data = pd.read_csv('dataset_test.csv')\n",
    "\n",
    "print(\"Training DataSet\")\n",
    "# Display the first few rows of the training data to verify\n",
    "print(train_data.head())\n",
    "\n",
    "print(\"-------------------------------------------------------------\")\n",
    "print(\"Testing DataSet\")\n",
    "# Display the first few rows of the test data to verify\n",
    "print(test_data.head())\n"
   ]
  },
  {
   "cell_type": "markdown",
   "id": "d69f12ea",
   "metadata": {},
   "source": [
    "## Data Science Project Assignment #2\n",
    "Problem statment: The goal of this project is to detect anomalous transactions in a dataset of financial transactions\n"
   ]
  },
  {
   "cell_type": "code",
   "execution_count": 113,
   "id": "52fd16dc",
   "metadata": {
    "scrolled": true
   },
   "outputs": [
    {
     "name": "stdout",
     "output_type": "stream",
     "text": [
      "Training Accuracy: 1.0\n",
      "Test Accuracy: 0.9817857142857143\n",
      "Test Precision: 0.9818491927563171\n",
      "Test Recall: 0.9817857142857143\n",
      "Test F1 Score: 0.9818115495210593\n"
     ]
    }
   ],
   "source": [
    "import pandas as pd\n",
    "from sklearn.model_selection import train_test_split\n",
    "from sklearn.tree import DecisionTreeClassifier\n",
    "from sklearn.metrics import accuracy_score, precision_score, recall_score, f1_score\n",
    "\n",
    "# Load the datasets\n",
    "train_data = pd.read_csv('dataset_train.csv')\n",
    "test_data = pd.read_csv('dataset_test.csv')\n",
    "\n",
    "# Separate features (X) and target variable (y)\n",
    "# \"class\" column as target variable (y) \n",
    "# rest of the columns as variables (X)\n",
    "X_train = train_data.drop('Class', axis=1)\n",
    "y_train = train_data['Class']\n",
    "X_test = test_data.drop('Class', axis=1)\n",
    "y_test = test_data['Class']\n",
    "\n",
    "# Convert categorical variables to numerical (One-Hot Encoding)\n",
    "X_train = pd.get_dummies(X_train)\n",
    "X_test = pd.get_dummies(X_test)\n",
    "\n",
    "# Align columns of train and test data\n",
    "X_train, X_test = X_train.align(X_test, join='inner', axis=1)\n",
    "\n",
    "# Initialize the Decision Tree Classifier\n",
    "dt_classifier = DecisionTreeClassifier()  # Experiment with hyperparameters here\n",
    "\n",
    "# Fit the classifier to the training data\n",
    "dt_classifier.fit(X_train, y_train)\n",
    "\n",
    "# Make predictions\n",
    "y_pred_train = dt_classifier.predict(X_train)\n",
    "y_pred_test = dt_classifier.predict(X_test)\n",
    "\n",
    "# Evaluation Metrics\n",
    "# use weighted otherwise I was getting a zero for some metrics\n",
    "accuracy_train = accuracy_score(y_train, y_pred_train)\n",
    "accuracy_test = accuracy_score(y_test, y_pred_test)\n",
    "precision_test = precision_score(y_test, y_pred_test, average='weighted', zero_division=1)\n",
    "recall_test = recall_score(y_test, y_pred_test, average='weighted', zero_division=1)\n",
    "f1_test = f1_score(y_test, y_pred_test, average='weighted', zero_division=1)\n",
    "\n",
    "\n",
    "# Print the metrics\n",
    "print(f\"Training Accuracy: {accuracy_train}\")\n",
    "print(f\"Test Accuracy: {accuracy_test}\")\n",
    "print(f\"Test Precision: {precision_test}\")\n",
    "print(f\"Test Recall: {recall_test}\")\n",
    "print(f\"Test F1 Score: {f1_test}\")\n"
   ]
  },
  {
   "cell_type": "markdown",
   "id": "aa4eb875",
   "metadata": {},
   "source": [
    "# STEP 1 AND 2\n",
    "# LOADING DATASETS\n",
    "# SPLITING INTO TRAINING AND VALIDATION\n",
    "# PRINTING OUT STATISTICS"
   ]
  },
  {
   "cell_type": "code",
   "execution_count": 2,
   "id": "12373ff7",
   "metadata": {},
   "outputs": [
    {
     "name": "stdout",
     "output_type": "stream",
     "text": [
      "Number of instances and features in the training file: (22400, 30)\n",
      "Number of instances and features in the test file: (5600, 30)\n",
      "Number of instances in the training set: 17920\n",
      "Number of instances in the validation set: 4480\n",
      "Number of instances in the test set: 5600\n",
      "\n",
      "Class distribution in the training set:\n",
      " Class\n",
      "0    13475\n",
      "1     4445\n",
      "Name: count, dtype: int64\n",
      "\n",
      "Class distribution in the validation set:\n",
      " Class\n",
      "0    3325\n",
      "1    1155\n",
      "Name: count, dtype: int64\n",
      "\n",
      "Class distribution in the test set:\n",
      " Class\n",
      "0    4200\n",
      "1    1400\n",
      "Name: count, dtype: int64\n"
     ]
    }
   ],
   "source": [
    "import pandas as pd\n",
    "from sklearn.model_selection import train_test_split\n",
    "from sklearn.tree import DecisionTreeClassifier\n",
    "from sklearn.metrics import accuracy_score, precision_score, recall_score, f1_score\n",
    "\n",
    "\n",
    "# Set the random seed to our TeamID to ensure that every time we run our code we get the same results.\n",
    "random_seed = 7\n",
    "\n",
    "# Load the datasets\n",
    "train_data = pd.read_csv('dataset_train.csv')\n",
    "test_data = pd.read_csv('dataset_test.csv')\n",
    "\n",
    "# Separate features and target variable for the training data\n",
    "X = train_data.drop('Class', axis=1)\n",
    "y = train_data['Class']\n",
    "\n",
    "# Split the training data into training (80%) and validation (20%) sets\n",
    "X_train, X_val, y_train, y_val = train_test_split(X, y, test_size=0.2, random_state=random_seed)\n",
    "\n",
    "# Convert categorical variables to numerical (One-Hot Encoding)\n",
    "X_train = pd.get_dummies(X_train)\n",
    "X_val = pd.get_dummies(X_val)\n",
    "X_test = pd.get_dummies(test_data.drop('Class', axis=1)) #y_train??\n",
    "y_test = test_data['Class']\n",
    "\n",
    "# Align columns of train, validation, and test data to make sure that we have the same set of columns\n",
    "X_train, X_val = X_train.align(X_val, join='inner', axis=1)\n",
    "X_train, X_test = X_train.align(X_test, join='inner', axis=1)\n",
    "\n",
    "# Printing out the statistics\n",
    "# This includes the number of instances and features in the original and split datasets\n",
    "# as well as the distribution of the target classes in each set\n",
    "print(\"Number of instances and features in the training file:\", train_data.shape)\n",
    "print(\"Number of instances and features in the test file:\", test_data.shape)\n",
    "print(\"Number of instances in the training set:\", X_train.shape[0])\n",
    "print(\"Number of instances in the validation set:\", X_val.shape[0])\n",
    "print(\"Number of instances in the test set:\", X_test.shape[0])\n",
    "print(\"\\nClass distribution in the training set:\\n\", y_train.value_counts())\n",
    "print(\"\\nClass distribution in the validation set:\\n\", y_val.value_counts())\n",
    "print(\"\\nClass distribution in the test set:\\n\", y_test.value_counts())\n",
    "\n"
   ]
  },
  {
   "cell_type": "markdown",
   "id": "fa83c73a",
   "metadata": {},
   "source": [
    "# CREATE BASELINE MODEL\n",
    "Generate predictions on the training, validation, and test sets\n",
    "Compute the accuracy, precisio, recall and F1 of the baseline model on each set (validation set, training set and test set)"
   ]
  },
  {
   "cell_type": "code",
   "execution_count": 4,
   "id": "563011a1",
   "metadata": {},
   "outputs": [
    {
     "data": {
      "text/html": [
       "<style>#sk-container-id-1 {color: black;}#sk-container-id-1 pre{padding: 0;}#sk-container-id-1 div.sk-toggleable {background-color: white;}#sk-container-id-1 label.sk-toggleable__label {cursor: pointer;display: block;width: 100%;margin-bottom: 0;padding: 0.3em;box-sizing: border-box;text-align: center;}#sk-container-id-1 label.sk-toggleable__label-arrow:before {content: \"▸\";float: left;margin-right: 0.25em;color: #696969;}#sk-container-id-1 label.sk-toggleable__label-arrow:hover:before {color: black;}#sk-container-id-1 div.sk-estimator:hover label.sk-toggleable__label-arrow:before {color: black;}#sk-container-id-1 div.sk-toggleable__content {max-height: 0;max-width: 0;overflow: hidden;text-align: left;background-color: #f0f8ff;}#sk-container-id-1 div.sk-toggleable__content pre {margin: 0.2em;color: black;border-radius: 0.25em;background-color: #f0f8ff;}#sk-container-id-1 input.sk-toggleable__control:checked~div.sk-toggleable__content {max-height: 200px;max-width: 100%;overflow: auto;}#sk-container-id-1 input.sk-toggleable__control:checked~label.sk-toggleable__label-arrow:before {content: \"▾\";}#sk-container-id-1 div.sk-estimator input.sk-toggleable__control:checked~label.sk-toggleable__label {background-color: #d4ebff;}#sk-container-id-1 div.sk-label input.sk-toggleable__control:checked~label.sk-toggleable__label {background-color: #d4ebff;}#sk-container-id-1 input.sk-hidden--visually {border: 0;clip: rect(1px 1px 1px 1px);clip: rect(1px, 1px, 1px, 1px);height: 1px;margin: -1px;overflow: hidden;padding: 0;position: absolute;width: 1px;}#sk-container-id-1 div.sk-estimator {font-family: monospace;background-color: #f0f8ff;border: 1px dotted black;border-radius: 0.25em;box-sizing: border-box;margin-bottom: 0.5em;}#sk-container-id-1 div.sk-estimator:hover {background-color: #d4ebff;}#sk-container-id-1 div.sk-parallel-item::after {content: \"\";width: 100%;border-bottom: 1px solid gray;flex-grow: 1;}#sk-container-id-1 div.sk-label:hover label.sk-toggleable__label {background-color: #d4ebff;}#sk-container-id-1 div.sk-serial::before {content: \"\";position: absolute;border-left: 1px solid gray;box-sizing: border-box;top: 0;bottom: 0;left: 50%;z-index: 0;}#sk-container-id-1 div.sk-serial {display: flex;flex-direction: column;align-items: center;background-color: white;padding-right: 0.2em;padding-left: 0.2em;position: relative;}#sk-container-id-1 div.sk-item {position: relative;z-index: 1;}#sk-container-id-1 div.sk-parallel {display: flex;align-items: stretch;justify-content: center;background-color: white;position: relative;}#sk-container-id-1 div.sk-item::before, #sk-container-id-1 div.sk-parallel-item::before {content: \"\";position: absolute;border-left: 1px solid gray;box-sizing: border-box;top: 0;bottom: 0;left: 50%;z-index: -1;}#sk-container-id-1 div.sk-parallel-item {display: flex;flex-direction: column;z-index: 1;position: relative;background-color: white;}#sk-container-id-1 div.sk-parallel-item:first-child::after {align-self: flex-end;width: 50%;}#sk-container-id-1 div.sk-parallel-item:last-child::after {align-self: flex-start;width: 50%;}#sk-container-id-1 div.sk-parallel-item:only-child::after {width: 0;}#sk-container-id-1 div.sk-dashed-wrapped {border: 1px dashed gray;margin: 0 0.4em 0.5em 0.4em;box-sizing: border-box;padding-bottom: 0.4em;background-color: white;}#sk-container-id-1 div.sk-label label {font-family: monospace;font-weight: bold;display: inline-block;line-height: 1.2em;}#sk-container-id-1 div.sk-label-container {text-align: center;}#sk-container-id-1 div.sk-container {/* jupyter's `normalize.less` sets `[hidden] { display: none; }` but bootstrap.min.css set `[hidden] { display: none !important; }` so we also need the `!important` here to be able to override the default hidden behavior on the sphinx rendered scikit-learn.org. See: https://github.com/scikit-learn/scikit-learn/issues/21755 */display: inline-block !important;position: relative;}#sk-container-id-1 div.sk-text-repr-fallback {display: none;}</style><div id=\"sk-container-id-1\" class=\"sk-top-container\"><div class=\"sk-text-repr-fallback\"><pre>DummyClassifier(random_state=7, strategy=&#x27;stratified&#x27;)</pre><b>In a Jupyter environment, please rerun this cell to show the HTML representation or trust the notebook. <br />On GitHub, the HTML representation is unable to render, please try loading this page with nbviewer.org.</b></div><div class=\"sk-container\" hidden><div class=\"sk-item\"><div class=\"sk-estimator sk-toggleable\"><input class=\"sk-toggleable__control sk-hidden--visually\" id=\"sk-estimator-id-1\" type=\"checkbox\" checked><label for=\"sk-estimator-id-1\" class=\"sk-toggleable__label sk-toggleable__label-arrow\">DummyClassifier</label><div class=\"sk-toggleable__content\"><pre>DummyClassifier(random_state=7, strategy=&#x27;stratified&#x27;)</pre></div></div></div></div></div>"
      ],
      "text/plain": [
       "DummyClassifier(random_state=7, strategy='stratified')"
      ]
     },
     "execution_count": 4,
     "metadata": {},
     "output_type": "execute_result"
    }
   ],
   "source": [
    "from sklearn.dummy import DummyClassifier\n",
    "\n",
    "# Create a baseline model using DummyClassifier\n",
    "# We used Stratified because it generates predictions by respecting the training set's class distribution\n",
    "# Each class is predicted with the frequency it appears in the training data\n",
    "baseline_model = DummyClassifier(strategy='stratified', random_state=random_seed)\n",
    "\n",
    "# Fit the baseline model on the training data\n",
    "#this model does not learn anything from the data\n",
    "#it mimics the class distribution\n",
    "baseline_model.fit(X_train, y_train)\n"
   ]
  },
  {
   "cell_type": "code",
   "execution_count": 5,
   "id": "3699a916",
   "metadata": {},
   "outputs": [],
   "source": [
    "# Generate predictions on the training, validation, and test sets for baseline model\n",
    "y_pred_train_baseline = baseline_model.predict(X_train)\n",
    "y_pred_val_baseline = baseline_model.predict(X_val)\n",
    "y_pred_test_baseline = baseline_model.predict(X_test)"
   ]
  },
  {
   "cell_type": "code",
   "execution_count": 6,
   "id": "0bc350ea",
   "metadata": {},
   "outputs": [
    {
     "name": "stdout",
     "output_type": "stream",
     "text": [
      "Validation Accuracy of Baseline Model: 0.6227678571428571\n",
      "Validation Precision of Baseline Model: 0.618238427495503\n",
      "Validation Recall of Baseline Model: 0.6227678571428571\n",
      "Validation F1 Score of Baseline Model: 0.6204587498062917\n"
     ]
    }
   ],
   "source": [
    "#VALIDATION SET\n",
    "# Compute, accuracy, precision, recall and F1 of the baseline model\n",
    "accuracy_val_baseline = accuracy_score(y_val, y_pred_val_baseline)\n",
    "precision_val_baseline = precision_score(y_val, y_pred_val_baseline, average='weighted', zero_division=1)\n",
    "recall_val_baseline = recall_score(y_val, y_pred_val_baseline, average='weighted', zero_division=1)\n",
    "f1_val_baseline = f1_score(y_val, y_pred_val_baseline, average='weighted', zero_division=1)\n",
    "\n",
    "print(f\"Validation Accuracy of Baseline Model: {accuracy_val_baseline}\")\n",
    "print(f\"Validation Precision of Baseline Model: {precision_val_baseline}\")\n",
    "print(f\"Validation Recall of Baseline Model: {recall_val_baseline}\")\n",
    "print(f\"Validation F1 Score of Baseline Model: {f1_val_baseline}\")"
   ]
  },
  {
   "cell_type": "code",
   "execution_count": 7,
   "id": "3302da0b",
   "metadata": {},
   "outputs": [
    {
     "name": "stdout",
     "output_type": "stream",
     "text": [
      "Training Set Accuracy of Baseline Model: 0.6239955357142857\n",
      "Training Set Precision of Baseline Model: 0.6251257937361191\n",
      "Training Set Recall of Baseline Model: 0.6239955357142857\n",
      "Training Set F1 Score of Baseline Model: 0.6245581976393253\n"
     ]
    }
   ],
   "source": [
    "#TRAINING SET\n",
    "# Compute, accuracy, precision, recall and F1 of the baseline model\n",
    "accuracy_train_baseline = accuracy_score(y_train, y_pred_train_baseline)\n",
    "precision_train_baseline = precision_score(y_train, y_pred_train_baseline, average='weighted', zero_division=1)\n",
    "recall_train_baseline = recall_score(y_train, y_pred_train_baseline, average='weighted', zero_division=1)\n",
    "f1_train_baseline = f1_score(y_train, y_pred_train_baseline, average='weighted', zero_division=1)\n",
    "\n",
    "\n",
    "print(f\"Training Set Accuracy of Baseline Model: {accuracy_train_baseline}\")\n",
    "print(f\"Training Set Precision of Baseline Model: {precision_train_baseline}\")\n",
    "print(f\"Training Set Recall of Baseline Model: {recall_train_baseline}\")\n",
    "print(f\"Training Set F1 Score of Baseline Model: {f1_train_baseline}\")"
   ]
  },
  {
   "cell_type": "code",
   "execution_count": 8,
   "id": "3e649f3a",
   "metadata": {},
   "outputs": [
    {
     "name": "stdout",
     "output_type": "stream",
     "text": [
      "Test Set Accuracy of Baseline Model: 0.6276785714285714\n",
      "Test Set Precision of Baseline Model: 0.6272348160365498\n",
      "Test Set Recall of Baseline Model: 0.6276785714285714\n",
      "Test Set F1 Score of Baseline Model: 0.6274562909248798\n"
     ]
    }
   ],
   "source": [
    "#TEST SET\n",
    "# Compute, accuracy, precision, recall and F1 of the baseline model\n",
    "accuracy_test_baseline = accuracy_score(y_test, y_pred_test_baseline)\n",
    "precision_test_baseline = precision_score(y_test, y_pred_test_baseline, average='weighted', zero_division=1)\n",
    "recall_test_baseline = recall_score(y_test, y_pred_test_baseline, average='weighted', zero_division=1)\n",
    "f1_test_baseline = f1_score(y_test, y_pred_test_baseline, average='weighted', zero_division=1)\n",
    "\n",
    "\n",
    "print(f\"Test Set Accuracy of Baseline Model: {accuracy_test_baseline}\")\n",
    "print(f\"Test Set Precision of Baseline Model: {precision_test_baseline}\")\n",
    "print(f\"Test Set Recall of Baseline Model: {recall_test_baseline}\")\n",
    "print(f\"Test Set F1 Score of Baseline Model: {f1_test_baseline}\")"
   ]
  },
  {
   "cell_type": "code",
   "execution_count": 9,
   "id": "ac0f0876",
   "metadata": {
    "scrolled": true
   },
   "outputs": [
    {
     "name": "stdout",
     "output_type": "stream",
     "text": [
      "Validation Set Accuracy of Baseline Model: 0.6227678571428571\n",
      "Training Set Accuracy of Baseline Model: 0.6239955357142857\n",
      "Test Set Accuracy of Baseline Model: 0.6276785714285714\n"
     ]
    }
   ],
   "source": [
    "# Compute the accuracy of the baseline model on each set\n",
    "accuracy_val_baseline = accuracy_score(y_val, y_pred_val_baseline)\n",
    "accuracy_train_baseline = accuracy_score(y_train, y_pred_train_baseline)\n",
    "accuracy_test_baseline = accuracy_score(y_test, y_pred_test_baseline)\n",
    "\n",
    "print(f\"Validation Set Accuracy of Baseline Model: {accuracy_val_baseline}\")\n",
    "print(f\"Training Set Accuracy of Baseline Model: {accuracy_train_baseline}\")\n",
    "print(f\"Test Set Accuracy of Baseline Model: {accuracy_test_baseline}\")"
   ]
  },
  {
   "cell_type": "markdown",
   "id": "a84c2625",
   "metadata": {},
   "source": [
    "# MODEL 1 - Decision Tree\n"
   ]
  },
  {
   "cell_type": "markdown",
   "id": "479f189d",
   "metadata": {},
   "source": [
    "Hyperparameter tuning for predict_DT"
   ]
  },
  {
   "cell_type": "code",
   "execution_count": 11,
   "id": "76f67282",
   "metadata": {},
   "outputs": [
    {
     "name": "stdout",
     "output_type": "stream",
     "text": [
      "----------------------------------------------\n",
      "--> Best 'max_leaf_nodes': 100\n",
      "--> Best Validation Accuracy: 0.9834821428571429\n",
      "----------------------------------------------\n"
     ]
    }
   ],
   "source": [
    "# from sklearn.tree import DecisionTreeClassifier\n",
    "# from sklearn.metrics import accuracy_score\n",
    "\n",
    "# Define the range of 'max_leaf_nodes'\n",
    "#These are the values provided in the instructions\n",
    "#\"none\" value allows the tree to expand fully\n",
    "max_leaf_nodes_range = [2, 4, 10, 20, 50, 100, 200, 400, 800, None]\n",
    "\n",
    "#list holding the accuracies of the max leaf nodes\n",
    "accuracies_train = []\n",
    "accuracies_val = []\n",
    "accuracies_test = []\n",
    "\n",
    "#we initiate the accuracy to zero because we know that as a percentage it is always positive\n",
    "best_accuracy = 0\n",
    "\n",
    "#we initiate the best_leaf_node to \"None\" to store the best hyperparameter Value\n",
    "#\"None\" is used to indicate an unselected state\n",
    "best_leaf_node = None\n",
    "\n",
    "# Iterate through the range and evaluate each model\n",
    "for leaf_nodes in max_leaf_nodes_range:\n",
    "    \n",
    "    dt_model = DecisionTreeClassifier(max_leaf_nodes=leaf_nodes, random_state=random_seed)\n",
    "    \n",
    "    #use the full training set\n",
    "    dt_model.fit(X_train, y_train)\n",
    "    \n",
    "    y_pred_train = dt_model.predict(X_train)\n",
    "    y_pred_val = dt_model.predict(X_val)\n",
    "    y_pred_test = dt_model.predict(X_test)\n",
    "    \n",
    "    current_accuracy = accuracy_score(y_val, y_pred_val)\n",
    "    \n",
    "    accuracies_val.append(accuracy_score(y_val, y_pred_val))\n",
    "    accuracies_train.append(accuracy_score(y_train, y_pred_train))\n",
    "    accuracies_test.append(accuracy_score(y_test, y_pred_test))\n",
    "\n",
    "    #choose the model with the highest accuracy on the Validation Set\n",
    "    if current_accuracy > best_accuracy:\n",
    "        \n",
    "        #we update best_accuracy as we iterate through different models\n",
    "        best_accuracy = current_accuracy\n",
    "        \n",
    "        #we update the best_leaf_node with the corresponding number of leaf_nodes\n",
    "        #when we find a model that has better accuracy\n",
    "        best_leaf_node = leaf_nodes\n",
    "\n",
    "print(\"----------------------------------------------\")\n",
    "print(f\"--> Best 'max_leaf_nodes': {best_leaf_node}\")\n",
    "print(f\"--> Best Validation Accuracy: {best_accuracy}\")\n",
    "print(\"----------------------------------------------\")"
   ]
  },
  {
   "cell_type": "code",
   "execution_count": 12,
   "id": "60c8f266",
   "metadata": {},
   "outputs": [
    {
     "name": "stdout",
     "output_type": "stream",
     "text": [
      "ACCURACIES FOR TRAINING SET:\n",
      "Max Leaf Nodes: 2, Validation Accuracy: 0.9575892857142857\n",
      "Max Leaf Nodes: 4, Validation Accuracy: 0.9634486607142857\n",
      "Max Leaf Nodes: 10, Validation Accuracy: 0.9712053571428572\n",
      "Max Leaf Nodes: 20, Validation Accuracy: 0.9786272321428572\n",
      "Max Leaf Nodes: 50, Validation Accuracy: 0.9864397321428572\n",
      "Max Leaf Nodes: 100, Validation Accuracy: 0.9916852678571428\n",
      "Max Leaf Nodes: 200, Validation Accuracy: 0.9981584821428572\n",
      "Max Leaf Nodes: 400, Validation Accuracy: 1.0\n",
      "Max Leaf Nodes: 800, Validation Accuracy: 1.0\n",
      "Max Leaf Nodes: None, Validation Accuracy: 1.0\n"
     ]
    }
   ],
   "source": [
    "print(\"ACCURACIES FOR TRAINING SET:\")\n",
    "#here we used zip because we are combing the two lists into pair\n",
    "#list 1 = \"max_leaf_nodes_range\", list 2 = \"accuracies_val\", pair: (max_leaf_node, accuracy)\n",
    "for leaf_nodes, accuracy in zip(max_leaf_nodes_range, accuracies_train):\n",
    "    \n",
    "    #in each loop we get a pair and thus it is easy to print the number of leaf nodes and accuracy side by side\n",
    "    print(f\"Max Leaf Nodes: {leaf_nodes}, Validation Accuracy: {accuracy}\")"
   ]
  },
  {
   "cell_type": "code",
   "execution_count": 13,
   "id": "757e9c9a",
   "metadata": {
    "scrolled": true
   },
   "outputs": [
    {
     "name": "stdout",
     "output_type": "stream",
     "text": [
      "ACCURACIES FOR VALIDATION SET:\n",
      "Max Leaf Nodes: 2, Validation Accuracy: 0.9611607142857143\n",
      "Max Leaf Nodes: 4, Validation Accuracy: 0.9667410714285715\n",
      "Max Leaf Nodes: 10, Validation Accuracy: 0.9738839285714286\n",
      "Max Leaf Nodes: 20, Validation Accuracy: 0.9765625\n",
      "Max Leaf Nodes: 50, Validation Accuracy: 0.9816964285714286\n",
      "Max Leaf Nodes: 100, Validation Accuracy: 0.9834821428571429\n",
      "Max Leaf Nodes: 200, Validation Accuracy: 0.9825892857142857\n",
      "Max Leaf Nodes: 400, Validation Accuracy: 0.9805803571428572\n",
      "Max Leaf Nodes: 800, Validation Accuracy: 0.9805803571428572\n",
      "Max Leaf Nodes: None, Validation Accuracy: 0.9825892857142857\n"
     ]
    }
   ],
   "source": [
    "print(\"ACCURACIES FOR VALIDATION SET:\")\n",
    "#here we used zip because we are combing the two lists into pair\n",
    "#list 1 = \"max_leaf_nodes_range\", list 2 = \"accuracies_val\", pair: (max_leaf_node, accuracy)\n",
    "for leaf_nodes, accuracy in zip(max_leaf_nodes_range, accuracies_val):\n",
    "    \n",
    "    #in each loop we get a pair and thus it is easy to print the number of leaf nodes and accuracy side by side\n",
    "    print(f\"Max Leaf Nodes: {leaf_nodes}, Validation Accuracy: {accuracy}\")"
   ]
  },
  {
   "cell_type": "code",
   "execution_count": 14,
   "id": "4865e4f8",
   "metadata": {},
   "outputs": [
    {
     "name": "stdout",
     "output_type": "stream",
     "text": [
      "ACCURACIES FOR TEST SET:\n",
      "Max Leaf Nodes: 2, Validation Accuracy: 0.9580357142857143\n",
      "Max Leaf Nodes: 4, Validation Accuracy: 0.9639285714285715\n",
      "Max Leaf Nodes: 10, Validation Accuracy: 0.9678571428571429\n",
      "Max Leaf Nodes: 20, Validation Accuracy: 0.9721428571428572\n",
      "Max Leaf Nodes: 50, Validation Accuracy: 0.9776785714285714\n",
      "Max Leaf Nodes: 100, Validation Accuracy: 0.9801785714285715\n",
      "Max Leaf Nodes: 200, Validation Accuracy: 0.9794642857142857\n",
      "Max Leaf Nodes: 400, Validation Accuracy: 0.9775\n",
      "Max Leaf Nodes: 800, Validation Accuracy: 0.9775\n",
      "Max Leaf Nodes: None, Validation Accuracy: 0.9783928571428572\n"
     ]
    }
   ],
   "source": [
    "print(\"ACCURACIES FOR TEST SET:\")\n",
    "#here we used zip because we are combing the two lists into pair\n",
    "#list 1 = \"max_leaf_nodes_range\", list 2 = \"accuracies_val\", pair: (max_leaf_node, accuracy)\n",
    "for leaf_nodes, accuracy in zip(max_leaf_nodes_range, accuracies_test):\n",
    "    \n",
    "    #in each loop we get a pair and thus it is easy to print the number of leaf nodes and accuracy side by side\n",
    "    print(f\"Max Leaf Nodes: {leaf_nodes}, Validation Accuracy: {accuracy}\")"
   ]
  },
  {
   "cell_type": "code",
   "execution_count": 15,
   "id": "3bc2ae74",
   "metadata": {},
   "outputs": [
    {
     "name": "stdout",
     "output_type": "stream",
     "text": [
      "   Leaf Nodes  Training Accuracy  Validation Accuracy  Test Accuracy\n",
      "0         2.0           0.957589             0.961161       0.958036\n",
      "1         4.0           0.963449             0.966741       0.963929\n",
      "2        10.0           0.971205             0.973884       0.967857\n",
      "3        20.0           0.978627             0.976562       0.972143\n",
      "4        50.0           0.986440             0.981696       0.977679\n",
      "5       100.0           0.991685             0.983482       0.980179\n",
      "6       200.0           0.998158             0.982589       0.979464\n",
      "7       400.0           1.000000             0.980580       0.977500\n",
      "8       800.0           1.000000             0.980580       0.977500\n",
      "9         NaN           1.000000             0.982589       0.978393\n"
     ]
    }
   ],
   "source": [
    "accuracy_df = pd.DataFrame({\n",
    "    'Leaf Nodes': max_leaf_nodes_range,\n",
    "    'Training Accuracy': accuracies_train,\n",
    "    'Validation Accuracy': accuracies_val,\n",
    "    'Test Accuracy': accuracies_test\n",
    "})\n",
    "\n",
    "# Display the DataFrame\n",
    "print(accuracy_df)\n"
   ]
  },
  {
   "cell_type": "markdown",
   "id": "41a011ed",
   "metadata": {},
   "source": [
    "Use the Best 'max_leaf_nodes'from previous step to train the model on the full training set"
   ]
  },
  {
   "cell_type": "code",
   "execution_count": 17,
   "id": "0c58523b",
   "metadata": {},
   "outputs": [],
   "source": [
    "best_leaf_nodes = best_leaf_node\n",
    "\n",
    "# Train the Decision Tree model with the best_leaf_nodes\n",
    "dt_best_model = DecisionTreeClassifier(max_leaf_nodes=best_leaf_nodes, random_state=random_seed)\n",
    "dt_best_model.fit(X_train, y_train)\n",
    "\n",
    "# Generate predictions\n",
    "y_pred_train_dt = dt_best_model.predict(X_train)\n",
    "y_pred_val_dt = dt_best_model.predict(X_val)\n",
    "y_pred_test_dt = dt_best_model.predict(X_test)\n",
    "\n"
   ]
  },
  {
   "cell_type": "code",
   "execution_count": 18,
   "id": "7b50f81c",
   "metadata": {},
   "outputs": [
    {
     "name": "stdout",
     "output_type": "stream",
     "text": [
      "Training Set Accuracy of DT Model: 0.9916852678571428\n",
      "Training Set Precision of DT Model: 0.9917173831099315\n",
      "Training Set Recall of DT Model: 0.9916852678571428\n",
      "Training Set F1 Score of DT Model: 0.9916497557812205\n"
     ]
    }
   ],
   "source": [
    "#TRAINING SET\n",
    "accuracy_train_dt = accuracy_score(y_train, y_pred_train_dt)\n",
    "precision_train_dt = precision_score(y_train, y_pred_train_dt, average='weighted', zero_division=1)\n",
    "recall_train_dt = recall_score(y_train, y_pred_train_dt, average='weighted', zero_division=1)\n",
    "f1_train_dt = f1_score(y_train, y_pred_train_dt, average='weighted', zero_division=1)\n",
    "\n",
    "#printing \n",
    "print(f\"Training Set Accuracy of DT Model: {accuracy_train_dt}\")\n",
    "print(f\"Training Set Precision of DT Model: {precision_train_dt}\")\n",
    "print(f\"Training Set Recall of DT Model: {recall_train_dt}\")\n",
    "print(f\"Training Set F1 Score of DT Model: {f1_train_dt}\")\n",
    "\n",
    "\n"
   ]
  },
  {
   "cell_type": "code",
   "execution_count": 19,
   "id": "faee48c9",
   "metadata": {},
   "outputs": [
    {
     "name": "stdout",
     "output_type": "stream",
     "text": [
      "Validation Set Accuracy of DT Model: 0.9834821428571429\n",
      "Validation Set Precision of DT Model: 0.9834421083969007\n",
      "Validation Set Recall of DT Model: 0.9834821428571429\n",
      "Validation Set F1 Score of DT Model: 0.983425134419068\n"
     ]
    }
   ],
   "source": [
    "#VALIDATION SET\n",
    "accuracy_val_dt = accuracy_score(y_val, y_pred_val_dt)\n",
    "precision_val_dt = precision_score(y_val, y_pred_val_dt, average='weighted', zero_division=1)\n",
    "recall_val_dt = recall_score(y_val, y_pred_val_dt, average='weighted', zero_division=1)\n",
    "f1_val_dt = f1_score(y_val, y_pred_val_dt, average='weighted', zero_division=1)\n",
    "\n",
    "print(f\"Validation Set Accuracy of DT Model: {accuracy_val_dt}\")\n",
    "print(f\"Validation Set Precision of DT Model: {precision_val_dt}\")\n",
    "print(f\"Validation Set Recall of DT Model: {recall_val_dt}\")\n",
    "print(f\"Validation Set F1 Score of DT Model: {f1_val_dt}\")"
   ]
  },
  {
   "cell_type": "code",
   "execution_count": 20,
   "id": "dcd8f8e9",
   "metadata": {},
   "outputs": [
    {
     "name": "stdout",
     "output_type": "stream",
     "text": [
      "Test Set Accuracy (DT): 0.9801785714285715\n",
      "Test Set Precision (DT): 0.9801097209559204\n",
      "Test Set Recall (DT): 0.9801785714285715\n",
      "Test Set F1-Score (DT): 0.980104058013216\n"
     ]
    }
   ],
   "source": [
    "#TEST SET\n",
    "accuracy_test_dt = accuracy_score(y_test, y_pred_test_dt)\n",
    "precision_test_dt = precision_score(y_test, y_pred_test_dt, average='weighted', zero_division=1)\n",
    "recall_test_dt = recall_score(y_test, y_pred_test_dt, average='weighted', zero_division=1)\n",
    "f1_test_dt = f1_score(y_test, y_pred_test_dt, average='weighted', zero_division=1)\n",
    "\n",
    "print(f\"Test Set Accuracy (DT): {accuracy_test_dt}\")\n",
    "print(f\"Test Set Precision (DT): {precision_test_dt}\")\n",
    "print(f\"Test Set Recall (DT): {recall_test_dt}\")\n",
    "print(f\"Test Set F1-Score (DT): {f1_test_dt}\")"
   ]
  },
  {
   "cell_type": "code",
   "execution_count": 67,
   "id": "13d5732e",
   "metadata": {},
   "outputs": [
    {
     "name": "stdout",
     "output_type": "stream",
     "text": [
      "Decision Tree - Better for Visualization:\n",
      "          Dataset  Accuracy  Precision    Recall  F1 Score\n",
      "0    Training Set  0.991685   0.991717  0.991685  0.991650\n",
      "1  Validation Set  0.983482   0.983442  0.983482  0.983425\n",
      "2        Test Set  0.980179   0.980110  0.980179  0.980104\n"
     ]
    }
   ],
   "source": [
    "print(\"Decision Tree - Better for Visualization:\")\n",
    "data = {\n",
    "    \"Dataset\": [\"Training Set\", \"Validation Set\", \"Test Set\"],\n",
    "    \"Accuracy\": [accuracy_train_dt, accuracy_val_dt, accuracy_test_dt],\n",
    "    \"Precision\": [precision_train_dt, precision_val_dt, precision_test_dt],\n",
    "    \"Recall\": [recall_train_dt, recall_val_dt, recall_test_dt],\n",
    "    \"F1 Score\": [f1_train_dt, f1_val_dt, f1_test_dt]\n",
    "}\n",
    "\n",
    "df = pd.DataFrame(data)\n",
    "print(df)\n"
   ]
  },
  {
   "cell_type": "markdown",
   "id": "f9636ee7",
   "metadata": {},
   "source": [
    "FIRST PLOT FOR DT MODEL"
   ]
  },
  {
   "cell_type": "code",
   "execution_count": 134,
   "id": "eb2589cc",
   "metadata": {
    "scrolled": false
   },
   "outputs": [
    {
     "data": {
      "image/png": "[encoded data removed]",
      "text/plain": [
       "<Figure size 1000x600 with 1 Axes>"
      ]
     },
     "metadata": {},
     "output_type": "display_data"
    }
   ],
   "source": [
    "plt.figure(figsize=(10, 6))\n",
    "plt.plot(max_leaf_nodes_range, accuracies_train, label='Training Set', marker='o')\n",
    "plt.plot(max_leaf_nodes_range, accuracies_val, label='Validation Set', marker='o')\n",
    "plt.plot(max_leaf_nodes_range, accuracies_test, label='Test Set', marker='o')\n",
    "plt.xlabel('Number of Leaf Nodes')\n",
    "plt.ylabel('Accuracy')\n",
    "plt.title('Accuracy vs. Number of Leaf Nodes')\n",
    "plt.legend()\n",
    "plt.grid(True)\n",
    "plt.show()"
   ]
  },
  {
   "cell_type": "markdown",
   "id": "d860c03d",
   "metadata": {},
   "source": [
    "## MODEL 2 - NAIVE BAYES"
   ]
  },
  {
   "cell_type": "code",
   "execution_count": 22,
   "id": "e3fa4371",
   "metadata": {},
   "outputs": [
    {
     "data": {
      "text/plain": [
       "(0.948046875, 0.9504464285714286, 0.9494642857142858)"
      ]
     },
     "execution_count": 22,
     "metadata": {},
     "output_type": "execute_result"
    }
   ],
   "source": [
    "from sklearn.naive_bayes import GaussianNB\n",
    "from sklearn.metrics import accuracy_score\n",
    "\n",
    "# Initialize the Naive Bayes classifier\n",
    "nb_model = GaussianNB()\n",
    "\n",
    "# Fit the model on the training data\n",
    "nb_model.fit(X_train, y_train)\n",
    "\n",
    "# Generate predictions on the training, validation, and test sets\n",
    "y_pred_train_nb = nb_model.predict(X_train)\n",
    "y_pred_val_nb = nb_model.predict(X_val)\n",
    "y_pred_test_nb = nb_model.predict(X_test)\n",
    "\n",
    "# Compute the accuracy of the Naive Bayes model on each set\n",
    "accuracy_train_nb = accuracy_score(y_train, y_pred_train_nb)\n",
    "accuracy_val_nb = accuracy_score(y_val, y_pred_val_nb)\n",
    "accuracy_test_nb = accuracy_score(y_test, y_pred_test_nb)\n",
    "\n",
    "accuracy_train_nb, accuracy_val_nb, accuracy_test_nb\n"
   ]
  },
  {
   "cell_type": "code",
   "execution_count": 44,
   "id": "20b4ec78",
   "metadata": {},
   "outputs": [
    {
     "name": "stdout",
     "output_type": "stream",
     "text": [
      "Actual Value: 0\n",
      "Predicted Value: 0\n"
     ]
    }
   ],
   "source": [
    "# Predict Output - to check\n",
    "predicted = nb_model.predict(X_test.iloc[[11]])\n",
    "\n",
    "print(\"Actual Value:\", y_test[11])\n",
    "print(\"Predicted Value:\", predicted[0])"
   ]
  },
  {
   "cell_type": "code",
   "execution_count": 29,
   "id": "33803fad",
   "metadata": {},
   "outputs": [
    {
     "name": "stdout",
     "output_type": "stream",
     "text": [
      "Validation Accuracy of NB Model: 0.9504464285714286\n",
      "Validation Precision of NB Model: 0.9501675904242501\n",
      "Validation Recall of NB Model: 0.9504464285714286\n",
      "Validation F1 Score of NB Model: 0.949724686294076\n"
     ]
    }
   ],
   "source": [
    "#VALIDATION SET\n",
    "# Compute, accuracy, precision, recall and F1 of the Naive Bayes model\n",
    "accuracy_val_nb = accuracy_score(y_val, y_pred_val_nb)\n",
    "precision_val_nb = precision_score(y_val, y_pred_val_nb, average='weighted', zero_division=1)\n",
    "recall_val_nb = recall_score(y_val, y_pred_val_nb, average='weighted', zero_division=1)\n",
    "f1_val_nb = f1_score(y_val, y_pred_val_nb, average='weighted', zero_division=1)\n",
    "\n",
    "print(f\"Validation Accuracy of NB Model: {accuracy_val_nb}\")\n",
    "print(f\"Validation Precision of NB Model: {precision_val_nb}\")\n",
    "print(f\"Validation Recall of NB Model: {recall_val_nb}\")\n",
    "print(f\"Validation F1 Score of NB Model: {f1_val_nb}\")"
   ]
  },
  {
   "cell_type": "code",
   "execution_count": 30,
   "id": "740f0c65",
   "metadata": {},
   "outputs": [
    {
     "name": "stdout",
     "output_type": "stream",
     "text": [
      "Training Set Accuracy of NB Model: 0.948046875\n",
      "Training Set Precision of NB Model: 0.947932187063939\n",
      "Training Set Recall of NB Model: 0.948046875\n",
      "Training Set F1 Score of NB Model: 0.9469837167261862\n"
     ]
    }
   ],
   "source": [
    "#TRAINING SET\n",
    "accuracy_train_nb = accuracy_score(y_train, y_pred_train_nb)\n",
    "precision_train_nb = precision_score(y_train, y_pred_train_nb, average='weighted', zero_division=1)\n",
    "recall_train_nb = recall_score(y_train, y_pred_train_nb, average='weighted', zero_division=1)\n",
    "f1_train_nb = f1_score(y_train, y_pred_train_nb, average='weighted', zero_division=1)\n",
    "\n",
    "#printing \n",
    "print(f\"Training Set Accuracy of NB Model: {accuracy_train_nb}\")\n",
    "print(f\"Training Set Precision of NB Model: {precision_train_nb}\")\n",
    "print(f\"Training Set Recall of NB Model: {recall_train_nb}\")\n",
    "print(f\"Training Set F1 Score of NB Model: {f1_train_nb}\")"
   ]
  },
  {
   "cell_type": "code",
   "execution_count": 45,
   "id": "fd7624f6",
   "metadata": {
    "scrolled": true
   },
   "outputs": [
    {
     "name": "stdout",
     "output_type": "stream",
     "text": [
      "Test Set Accuracy of NB Model: 0.9494642857142858\n",
      "Test Set Precision of NB Model: 0.949433324572688\n",
      "Test Set Recall of NB Model: 0.9494642857142858\n",
      "Test Set F1-Score of NB Model: 0.948441365168558\n"
     ]
    }
   ],
   "source": [
    "#TEST SET\n",
    "accuracy_test_nb = accuracy_score(y_test, y_pred_test_nb)\n",
    "precision_test_nb = precision_score(y_test, y_pred_test_nb, average='weighted', zero_division=1)\n",
    "recall_test_nb = recall_score(y_test, y_pred_test_nb, average='weighted', zero_division=1)\n",
    "f1_test_nb = f1_score(y_test, y_pred_test_nb, average='weighted', zero_division=1)\n",
    "\n",
    "print(f\"Test Set Accuracy of NB Model: {accuracy_test_nb}\")\n",
    "print(f\"Test Set Precision of NB Model: {precision_test_nb}\")\n",
    "print(f\"Test Set Recall of NB Model: {recall_test_nb}\")\n",
    "print(f\"Test Set F1-Score of NB Model: {f1_test_nb}\")"
   ]
  },
  {
   "cell_type": "code",
   "execution_count": 66,
   "id": "4dc4d3cd",
   "metadata": {},
   "outputs": [
    {
     "name": "stdout",
     "output_type": "stream",
     "text": [
      "Naive Bayes - Better for Visualization:\n",
      "          Dataset  Accuracy  Precision    Recall  F1 Score\n",
      "0    Training Set  0.948047   0.947932  0.948047  0.946984\n",
      "1  Validation Set  0.950446   0.950168  0.950446  0.949725\n",
      "2        Test Set  0.949464   0.949433  0.949464  0.948441\n"
     ]
    }
   ],
   "source": [
    "print(\"Naive Bayes - Better for Visualization:\")\n",
    "data_nb = {\n",
    "    \"Dataset\": [\"Training Set\", \"Validation Set\", \"Test Set\"],\n",
    "    \"Accuracy\": [accuracy_train_nb, accuracy_val_nb, accuracy_test_nb],\n",
    "    \"Precision\": [precision_train_nb, precision_val_nb, precision_test_nb],\n",
    "    \"Recall\": [recall_train_nb, recall_val_nb, recall_test_nb],\n",
    "    \"F1 Score\": [f1_train_nb, f1_val_nb, f1_test_nb]\n",
    "}\n",
    "\n",
    "df_nb = pd.DataFrame(data_nb)\n",
    "print(df_nb)\n"
   ]
  },
  {
   "cell_type": "code",
   "execution_count": 53,
   "id": "827c8bc9",
   "metadata": {},
   "outputs": [
    {
     "data": {
      "image/png": "[encoded data removed]",
      "text/plain": [
       "<Figure size 1000x700 with 2 Axes>"
      ]
     },
     "metadata": {},
     "output_type": "display_data"
    }
   ],
   "source": [
    "#Confusion Matrix Test Set\n",
    "from sklearn.metrics import confusion_matrix\n",
    "import seaborn as sns\n",
    "\n",
    "cm = confusion_matrix(y_test, y_pred_test_nb)\n",
    "\n",
    "# Plotting the confusion matrix\n",
    "plt.figure(figsize=(10,7))\n",
    "sns.heatmap(cm, annot=True, fmt='d')\n",
    "plt.title('Confusion Matrix for Naive Bayes Model For Test Set')\n",
    "plt.xlabel('Predicted')\n",
    "plt.ylabel('True')\n",
    "plt.show()\n"
   ]
  },
  {
   "cell_type": "code",
   "execution_count": 54,
   "id": "e43474b5",
   "metadata": {},
   "outputs": [
    {
     "data": {
      "image/png": "[encoded data removed]",
      "text/plain": [
       "<Figure size 640x480 with 1 Axes>"
      ]
     },
     "metadata": {},
     "output_type": "display_data"
    }
   ],
   "source": [
    "from sklearn.metrics import roc_curve, auc\n",
    "from sklearn.preprocessing import label_binarize\n",
    "\n",
    "\n",
    "y_test_bin = label_binarize(y_test, classes=[0, 1])  \n",
    "y_prob_nb = nb_model.predict_proba(X_test)[:,1] \n",
    "\n",
    "fpr, tpr, _ = roc_curve(y_test_bin, y_prob_nb)\n",
    "roc_auc = auc(fpr, tpr)\n",
    "\n",
    "plt.figure()\n",
    "plt.plot(fpr, tpr, label='ROC curve (area = %0.2f)' % roc_auc)\n",
    "plt.plot([0, 1], [0, 1], 'k--')\n",
    "plt.xlim([0.0, 1.0])\n",
    "plt.ylim([0.0, 1.05])\n",
    "plt.xlabel('False Positive Rate')\n",
    "plt.ylabel('True Positive Rate')\n",
    "plt.title('Receiver Operating Characteristic')\n",
    "plt.legend(loc=\"lower right\")\n",
    "plt.show()\n"
   ]
  },
  {
   "cell_type": "markdown",
   "id": "49b163db",
   "metadata": {},
   "source": [
    "## Model 3 - Logistic Regression"
   ]
  },
  {
   "cell_type": "code",
   "execution_count": 57,
   "id": "6c2e2d0f",
   "metadata": {},
   "outputs": [
    {
     "data": {
      "text/plain": [
       "(0.972265625, 0.9743303571428571, 0.9719642857142857)"
      ]
     },
     "execution_count": 57,
     "metadata": {},
     "output_type": "execute_result"
    }
   ],
   "source": [
    "from sklearn.linear_model import LogisticRegression\n",
    "\n",
    "# Initialize the Logistic Regression model\n",
    "lr_model = LogisticRegression(random_state=random_seed, max_iter=1000)\n",
    "\n",
    "# Fit the model on the training data\n",
    "lr_model.fit(X_train, y_train)\n",
    "\n",
    "# Generate predictions on the training, validation, and test sets\n",
    "y_pred_train_lr = lr_model.predict(X_train)\n",
    "y_pred_val_lr = lr_model.predict(X_val)\n",
    "y_pred_test_lr = lr_model.predict(X_test)\n",
    "\n",
    "# Compute the accuracy of the Logistic Regression model on each set\n",
    "accuracy_train_lr = accuracy_score(y_train, y_pred_train_lr)\n",
    "accuracy_val_lr = accuracy_score(y_val, y_pred_val_lr)\n",
    "accuracy_test_lr = accuracy_score(y_test, y_pred_test_lr)\n",
    "\n",
    "accuracy_train_lr, accuracy_val_lr, accuracy_test_lr"
   ]
  },
  {
   "cell_type": "code",
   "execution_count": 58,
   "id": "e3afba89",
   "metadata": {},
   "outputs": [
    {
     "name": "stdout",
     "output_type": "stream",
     "text": [
      "Validation Accuracy of LR Model: 0.9743303571428571\n",
      "Validation Precision of LR Model: 0.974317851277092\n",
      "Validation Recall of LR Model: 0.9743303571428571\n",
      "Validation F1 Score of LR Model: 0.9741147190903158\n"
     ]
    }
   ],
   "source": [
    "#VALIDATION SET\n",
    "# Compute, accuracy, precision, recall and F1 of the Logistic Regression model\n",
    "accuracy_val_lr = accuracy_score(y_val, y_pred_val_lr)\n",
    "precision_val_lr = precision_score(y_val, y_pred_val_lr, average='weighted', zero_division=1)\n",
    "recall_val_lr = recall_score(y_val, y_pred_val_lr, average='weighted', zero_division=1)\n",
    "f1_val_lr = f1_score(y_val, y_pred_val_lr, average='weighted', zero_division=1)\n",
    "\n",
    "print(f\"Validation Accuracy of LR Model: {accuracy_val_lr}\")\n",
    "print(f\"Validation Precision of LR Model: {precision_val_lr}\")\n",
    "print(f\"Validation Recall of LR Model: {recall_val_lr}\")\n",
    "print(f\"Validation F1 Score of LR Model: {f1_val_lr}\")"
   ]
  },
  {
   "cell_type": "code",
   "execution_count": 59,
   "id": "341f4dff",
   "metadata": {},
   "outputs": [
    {
     "name": "stdout",
     "output_type": "stream",
     "text": [
      "Training Set Accuracy of LR Model: 0.972265625\n",
      "Training Set Precision of LR Model: 0.97230234897041\n",
      "Training Set Recall of LR Model: 0.972265625\n",
      "Training Set F1 Score of LR Model: 0.9719560935857725\n"
     ]
    }
   ],
   "source": [
    "#TRAINING SET\n",
    "accuracy_train_lr = accuracy_score(y_train, y_pred_train_lr)\n",
    "precision_train_lr = precision_score(y_train, y_pred_train_lr, average='weighted', zero_division=1)\n",
    "recall_train_lr = recall_score(y_train, y_pred_train_lr, average='weighted', zero_division=1)\n",
    "f1_train_lr = f1_score(y_train, y_pred_train_lr, average='weighted', zero_division=1)\n",
    "\n",
    "#printing \n",
    "print(f\"Training Set Accuracy of LR Model: {accuracy_train_lr}\")\n",
    "print(f\"Training Set Precision of LR Model: {precision_train_lr}\")\n",
    "print(f\"Training Set Recall of LR Model: {recall_train_lr}\")\n",
    "print(f\"Training Set F1 Score of LR Model: {f1_train_lr}\")"
   ]
  },
  {
   "cell_type": "code",
   "execution_count": 60,
   "id": "9d91b502",
   "metadata": {},
   "outputs": [
    {
     "name": "stdout",
     "output_type": "stream",
     "text": [
      "Test Set Accuracy of LR Model: 0.9719642857142857\n",
      "Test Set Precision of LR Model: 0.9720965889677433\n",
      "Test Set Recall of LR Model: 0.9719642857142857\n",
      "Test Set F1-Score of LR Model: 0.9716137739313714\n"
     ]
    }
   ],
   "source": [
    "#TEST SET\n",
    "accuracy_test_lr = accuracy_score(y_test, y_pred_test_lr)\n",
    "precision_test_lr = precision_score(y_test, y_pred_test_lr, average='weighted', zero_division=1)\n",
    "recall_test_lr = recall_score(y_test, y_pred_test_lr, average='weighted', zero_division=1)\n",
    "f1_test_lr = f1_score(y_test, y_pred_test_lr, average='weighted', zero_division=1)\n",
    "\n",
    "print(f\"Test Set Accuracy of LR Model: {accuracy_test_lr}\")\n",
    "print(f\"Test Set Precision of LR Model: {precision_test_lr}\")\n",
    "print(f\"Test Set Recall of LR Model: {recall_test_lr}\")\n",
    "print(f\"Test Set F1-Score of LR Model: {f1_test_lr}\")"
   ]
  },
  {
   "cell_type": "code",
   "execution_count": 64,
   "id": "ae2f9859",
   "metadata": {},
   "outputs": [
    {
     "name": "stdout",
     "output_type": "stream",
     "text": [
      "Logistic Regression - Better for Visualization:\n",
      "          Dataset  Accuracy  Precision    Recall  F1 Score\n",
      "0    Training Set  0.972266   0.972302  0.972266  0.971956\n",
      "1  Validation Set  0.974330   0.974318  0.974330  0.974115\n",
      "2        Test Set  0.971964   0.972097  0.971964  0.971614\n"
     ]
    }
   ],
   "source": [
    "print(\"Logistic Regression - Better for Visualization:\")\n",
    "data = {\n",
    "    \"Dataset\": [\"Training Set\", \"Validation Set\", \"Test Set\"],\n",
    "    \"Accuracy\": [accuracy_train_lr, accuracy_val_lr, accuracy_test_lr],\n",
    "    \"Precision\": [precision_train_lr, precision_val_lr, precision_test_lr],\n",
    "    \"Recall\": [recall_train_lr, recall_val_lr, recall_test_lr],\n",
    "    \"F1 Score\": [f1_train_lr, f1_val_lr, f1_test_lr]\n",
    "}\n",
    "\n",
    "df = pd.DataFrame(data)\n",
    "print(df)\n"
   ]
  },
  {
   "cell_type": "code",
   "execution_count": null,
   "id": "9ed68bab",
   "metadata": {},
   "outputs": [],
   "source": []
  },
  {
   "cell_type": "code",
   "execution_count": null,
   "id": "cf2793ee",
   "metadata": {},
   "outputs": [],
   "source": []
  },
  {
   "cell_type": "markdown",
   "id": "02b7455f",
   "metadata": {},
   "source": [
    "# MODEL 3 - ENSEMBLE DT"
   ]
  },
  {
   "cell_type": "code",
   "execution_count": 246,
   "id": "ffed60c0",
   "metadata": {},
   "outputs": [
    {
     "name": "stdout",
     "output_type": "stream",
     "text": [
      "Best Configuration: {'n_classifiers': 25, 'max_features': 0.5}\n",
      "Accuracy results for all the configuration: {(5, 0.1): (0.97734375, 0.9665178571428571, 0.9616071428571429), (5, 0.3): (0.9969866071428571, 0.9839285714285714, 0.9808928571428571), (5, 0.5): (0.9982142857142857, 0.9877232142857143, 0.98375), (15, 0.1): (0.969921875, 0.9573660714285714, 0.9557142857142857), (15, 0.3): (0.9989955357142857, 0.9850446428571429, 0.9835714285714285), (15, 0.5): (0.9996651785714286, 0.9883928571428572, 0.9855357142857143), (25, 0.1): (0.96875, 0.9560267857142857, 0.95375), (25, 0.3): (0.9995535714285714, 0.9854910714285714, 0.9832142857142857), (25, 0.5): (0.9998883928571428, 0.9895089285714286, 0.9873214285714286)}\n"
     ]
    }
   ],
   "source": [
    "from sklearn.ensemble import BaggingClassifier\n",
    "\n",
    "# Parameters to experiment with\n",
    "n_base_classifiers = [5, 15, 25]\n",
    "max_features_options = [0.1, 0.3, 0.5]\n",
    "max_leaf_nodes = 400\n",
    "best_accuracy = 0\n",
    "best_configuration = {}\n",
    "accuracy_results = {}  # Dictionary to store accuracy results\n",
    "\n",
    "# Iterate over the options, train the model and evaluate it. here we are also storrung the accuracy results\n",
    "for n_classifiers in n_base_classifiers:\n",
    "    for max_features in max_features_options:\n",
    "        # Create the ensemble model\n",
    "        dt_ensemble = BaggingClassifier(\n",
    "            estimator =DecisionTreeClassifier(max_leaf_nodes=max_leaf_nodes),\n",
    "            n_estimators=n_classifiers,\n",
    "            max_features=max_features,\n",
    "            random_state=team_id,\n",
    "            bootstrap=True\n",
    "        )\n",
    "        \n",
    "        #justtttttttt tryinggggggg something..the commented code works\n",
    "#         # Fit and evaluate the model\n",
    "        dt_ensemble.fit(X_train, y_train)\n",
    "#         accuracy_val = accuracy_score(y_val, dt_ensemble.predict(X_val))\n",
    "\n",
    "#         # Storing the accuracy in the dictionary\n",
    "#         accuracy_results[(n_classifiers, max_features)] = accuracy_val\n",
    "     \n",
    "    #---------------------------\n",
    "       # Calculate accuracies for each set\n",
    "        train_accuracy = accuracy_score(y_train, dt_ensemble.predict(X_train))\n",
    "        accuracy_val = accuracy_score(y_val, dt_ensemble.predict(X_val))\n",
    "        test_accuracy = accuracy_score(y_test, dt_ensemble.predict(X_test))\n",
    "\n",
    "        # Store the accuracies in a tuple\n",
    "        accuracy_results[(n_classifiers, max_features)] = (train_accuracy, accuracy_val, test_accuracy)  \n",
    "        \n",
    "     #---------------------------   \n",
    "        \n",
    "        \n",
    "        \n",
    "        # Update the best model if needed\n",
    "        if accuracy_val > best_accuracy:\n",
    "            best_accuracy = accuracy_val\n",
    "            best_configuration = {'n_classifiers': n_classifiers, 'max_features': max_features}\n",
    "\n",
    "# Print the best configuration\n",
    "print(\"Best Configuration:\", best_configuration)\n",
    "print(\"Accuracy results for all the configuration:\", accuracy_results)\n"
   ]
  },
  {
   "cell_type": "code",
   "execution_count": 248,
   "id": "0049415d",
   "metadata": {},
   "outputs": [
    {
     "name": "stdout",
     "output_type": "stream",
     "text": [
      "n_classifiers: 25, max_features: 0.5, Validation Accuracy: 0.9895089285714286\n"
     ]
    }
   ],
   "source": [
    "ensemble_accuracies = {}\n",
    "ensemble_accuracies[(n_classifiers, max_features)] = accuracy_val\n",
    "for params, accuracy in ensemble_accuracies.items():\n",
    "    print(f\"n_classifiers: {params[0]}, max_features: {params[1]}, Validation Accuracy: {accuracy}\")"
   ]
  },
  {
   "cell_type": "code",
   "execution_count": 249,
   "id": "b7288d0c",
   "metadata": {},
   "outputs": [
    {
     "name": "stdout",
     "output_type": "stream",
     "text": [
      "{(25, 0.5): 0.9895089285714286}\n"
     ]
    }
   ],
   "source": [
    "print(ensemble_accuracies)"
   ]
  },
  {
   "cell_type": "code",
   "execution_count": 253,
   "id": "73092733",
   "metadata": {},
   "outputs": [
    {
     "name": "stdout",
     "output_type": "stream",
     "text": [
      "-------------------------------------------------------------------------\n",
      "Values are for (Training Set, Validation Set, Test Set) respectively:\n",
      "-------------------------------------------------------------------------\n",
      "-------------------------------------------------------------------------\n",
      "Accuracy for Configuration (5, 0.1) is (0.97734375, 0.9665178571428571, 0.9616071428571429)\n",
      "Accuracy for Configuration (5, 0.3) is (0.9969866071428571, 0.9839285714285714, 0.9808928571428571)\n",
      "Accuracy for Configuration (5, 0.5) is (0.9982142857142857, 0.9877232142857143, 0.98375)\n",
      "Accuracy for Configuration (15, 0.1) is (0.969921875, 0.9573660714285714, 0.9557142857142857)\n",
      "Accuracy for Configuration (15, 0.3) is (0.9989955357142857, 0.9850446428571429, 0.9835714285714285)\n",
      "Accuracy for Configuration (15, 0.5) is (0.9996651785714286, 0.9883928571428572, 0.9855357142857143)\n",
      "Accuracy for Configuration (25, 0.1) is (0.96875, 0.9560267857142857, 0.95375)\n",
      "Accuracy for Configuration (25, 0.3) is (0.9995535714285714, 0.9854910714285714, 0.9832142857142857)\n",
      "Accuracy for Configuration (25, 0.5) is (0.9998883928571428, 0.9895089285714286, 0.9873214285714286)\n"
     ]
    }
   ],
   "source": [
    "#Assign accuracies to variables for plotting\n",
    "#Even though results are printed above, I am assigning each result to a new variable\n",
    "#This will make it a lot easier for the graphs later on..\n",
    "#THIS ARE ACCURACIES BASED ON THE VALIDATION SET\n",
    "accuracy1 = accuracy_results[(5, 0.1)]\n",
    "accuracy2 = accuracy_results[(5, 0.3)]\n",
    "accuracy3 = accuracy_results[(5, 0.5)]\n",
    "accuracy4 = accuracy_results[(15, 0.1)]\n",
    "accuracy5 = accuracy_results[(15, 0.3)]\n",
    "accuracy6 = accuracy_results[(15, 0.5)]\n",
    "accuracy7 = accuracy_results[(25, 0.1)]\n",
    "accuracy8 = accuracy_results[(25, 0.3)]\n",
    "accuracy9 = accuracy_results[(25, 0.5)]\n",
    "\n",
    "print(\"-------------------------------------------------------------------------\")\n",
    "print(\"Values are for (Training Set, Validation Set, Test Set) respectively:\")\n",
    "print(\"-------------------------------------------------------------------------\")\n",
    "print(\"-------------------------------------------------------------------------\")\n",
    "print(\"Accuracy for Configuration (5, 0.1) is\",accuracy1)\n",
    "print(\"Accuracy for Configuration (5, 0.3) is\",accuracy2)\n",
    "print(\"Accuracy for Configuration (5, 0.5) is\",accuracy3)\n",
    "print(\"Accuracy for Configuration (15, 0.1) is\",accuracy4)\n",
    "print(\"Accuracy for Configuration (15, 0.3) is\",accuracy5)\n",
    "print(\"Accuracy for Configuration (15, 0.5) is\",accuracy6)\n",
    "print(\"Accuracy for Configuration (25, 0.1) is\",accuracy7)\n",
    "print(\"Accuracy for Configuration (25, 0.3) is\",accuracy8)\n",
    "print(\"Accuracy for Configuration (25, 0.5) is\",accuracy9)\n",
    "\n"
   ]
  },
  {
   "cell_type": "code",
   "execution_count": 264,
   "id": "320945c4",
   "metadata": {},
   "outputs": [
    {
     "data": {
      "text/plain": [
       "(0.97734375, 0.9665178571428571, 0.9616071428571429)"
      ]
     },
     "execution_count": 264,
     "metadata": {},
     "output_type": "execute_result"
    }
   ],
   "source": [
    "accuracy1"
   ]
  },
  {
   "cell_type": "markdown",
   "id": "c8a2e569",
   "metadata": {},
   "source": [
    "## Plot 2: \n",
    "Bar plot showing validation accuracy of the ensemble model for different max_features."
   ]
  },
  {
   "cell_type": "code",
   "execution_count": 263,
   "id": "2d54ae17",
   "metadata": {},
   "outputs": [
    {
     "data": {
      "image/png": "[encoded data removed]",
      "text/plain": [
       "<Figure size 1000x600 with 1 Axes>"
      ]
     },
     "metadata": {},
     "output_type": "display_data"
    }
   ],
   "source": [
    "# import matplotlib.pyplot as plt\n",
    "# import numpy as np\n",
    "\n",
    "\"\"\"\n",
    "This dictionary contains accuracies as values, with keys being tuples of (n_base_classifiers, max_features)\n",
    "For instance, (5, 0.1) refers to accuracy1 which we calculated in the prevous step\n",
    "\"\"\"\n",
    "\n",
    "accuracy_data = {\n",
    "    #we used [1] for accuracy1, accuracy2... because accuracy[training set, validation set, test set]\n",
    "    #the question asks for the validation set so the we had to use [1] to get the accuracy for just the\n",
    "    #validation set\n",
    "    (5, 0.1): accuracy1[1], (5, 0.3): accuracy2[1], (5, 0.5): accuracy3[1],\n",
    "    (15, 0.1): accuracy4[1], (15, 0.3): accuracy5[1], (15, 0.5): accuracy6[1],\n",
    "    (25, 0.1): accuracy7[1], (25, 0.3): accuracy8[1], (25, 0.5): accuracy9[1]\n",
    "}\n",
    "\n",
    "\"\"\"\n",
    "Organize the data for plotting, we are etracting the unique values for 'max_features' and 'n_base_classifiers' from the accuracy data.\n",
    "We already calculated the accuracy in a structured order, however we sorted them again to make sure they are correct\n",
    "for visualization purposes. sorting ensures that the plot is consistent and easy to interpret \n",
    "\"\"\" \n",
    "\n",
    "max_features_set = sorted(set(key[1] for key in accuracy_data))\n",
    "n_classifiers_set = sorted(set(key[0] for key in accuracy_data))\n",
    "\n",
    "\n",
    "\"\"\"\n",
    "In this step, we create a list of accuracies for each max_feature across different n_base_classifiers.\n",
    "if we were to print the following variable we would get something like this: \n",
    "{0.1: [0.9665178571428571, 0.9573660714285714, 0.9560267857142857], 0.3: [....]\n",
    "\"\"\"\n",
    "acc_for_max_features = {max_feature: [accuracy_data.get((n_classifier, max_feature), None) for n_classifier in n_classifiers_set] \n",
    "                       for max_feature in max_features_set}\n",
    "\n",
    "# Plotting..\n",
    "plt.figure(figsize=(10, 6))\n",
    "bar_width = 0.2\n",
    "\n",
    "#here we calculate the positions for the groups of bars on the x-axis\n",
    "index = np.arange(len(n_classifiers_set))\n",
    "\n",
    "# Colors for each group of bars representing different 'max_features'.\n",
    "colors = ['purple', 'orange', 'yellow']\n",
    "\n",
    "\n",
    "\"\"\"\n",
    "Plotting bars for each 'max_features' value. we loop through each 'max_feature' \n",
    "and its corresponding color, then plot a set of bars for that 'max_feature'\n",
    "\"\"\"\n",
    "for idx, (max_feature, colors) in enumerate(zip(max_features_set, colors)):\n",
    "    plt.bar(index + idx * bar_width, acc_for_max_features[max_feature], bar_width, label=f'Max Features: {max_feature}', color=colors)\n",
    "\n",
    "# Labeling the axes and setting the plot title.\n",
    "plt.xlabel('Number of Base Classifiers')\n",
    "plt.ylabel('Validation Accuracy')\n",
    "plt.title('Validation Accuracy for Different Max Features and Base Classifiers')\n",
    "\n",
    "# Setting the position and labels of x-ticks\n",
    "plt.xticks(index + bar_width / len(max_features_set), n_classifiers_set)\n",
    "\n",
    "#To understand which colors correspond to which 'max_features'\n",
    "#plt.legend() \n",
    "plt.legend(loc='lower right')\n",
    "\n",
    "# Adding a grid to the plot for better readability of the accuracies.\n",
    "plt.grid(True) \n",
    "\n",
    "# Displaying the plot.\n",
    "plt.show() \n"
   ]
  },
  {
   "cell_type": "markdown",
   "id": "177c104f",
   "metadata": {},
   "source": [
    "# Accuracy, Precision, Recall, F1 \n",
    "# ensemble_dt model"
   ]
  },
  {
   "cell_type": "code",
   "execution_count": 266,
   "id": "009b30c0",
   "metadata": {},
   "outputs": [],
   "source": [
    "#Generate predictions for each set\n",
    "y_pred_train_ensemble = dt_ensemble.predict(X_train)\n",
    "y_pred_val_ensemble = dt_ensemble.predict(X_val)\n",
    "y_pred_test_ensemble = dt_ensemble.predict(X_test)"
   ]
  },
  {
   "cell_type": "code",
   "execution_count": 267,
   "id": "82e61a50",
   "metadata": {},
   "outputs": [
    {
     "name": "stdout",
     "output_type": "stream",
     "text": [
      "Training Set Accuracy (DT Ensemble): 0.9998883928571428\n",
      "Training Set Precision (DT Ensemble): 0.9998884094197521\n",
      "Training Set Recall (DT Ensemble): 0.9998883928571428\n",
      "Training Set F1-Score (DT Ensemble): 0.9998883844410431\n"
     ]
    }
   ],
   "source": [
    "#TRAINING SET\n",
    "# Calculate Accuracy, Precision, Recall, and F1 Score for the Training Set\n",
    "accuracy_train_ensemble = accuracy_score(y_train, y_pred_train_ensemble)\n",
    "precision_train_ensemble = precision_score(y_train, y_pred_train_ensemble, average='weighted', zero_division=1)\n",
    "recall_train_ensemble = recall_score(y_train, y_pred_train_ensemble, average='weighted', zero_division=1)\n",
    "f1_train_ensemble = f1_score(y_train, y_pred_train_ensemble, average='weighted', zero_division=1)\n",
    "\n",
    "print(f\"Training Set Accuracy (DT Ensemble): {accuracy_train_ensemble}\")\n",
    "print(f\"Training Set Precision (DT Ensemble): {precision_train_ensemble}\")\n",
    "print(f\"Training Set Recall (DT Ensemble): {recall_train_ensemble}\")\n",
    "print(f\"Training Set F1-Score (DT Ensemble): {f1_train_ensemble}\")\n"
   ]
  },
  {
   "cell_type": "code",
   "execution_count": 268,
   "id": "8fc48a21",
   "metadata": {},
   "outputs": [
    {
     "name": "stdout",
     "output_type": "stream",
     "text": [
      "Validation Set Accuracy (DT Ensemble): 0.9895089285714286\n",
      "Validation Set Precision (DT Ensemble): 0.9896199077703396\n",
      "Validation Set Recall (DT Ensemble): 0.9895089285714286\n",
      "Validation Set F1-Score (DT Ensemble): 0.9894431328931577\n"
     ]
    }
   ],
   "source": [
    "# VALIDATION SET\n",
    "# Calculate Accuracy, Precision, Recall, and F1 Score for the Validation Set\n",
    "accuracy_val_ensemble = accuracy_score(y_val, y_pred_val_ensemble)\n",
    "precision_val_ensemble = precision_score(y_val, y_pred_val_ensemble, average='weighted', zero_division=1)\n",
    "recall_val_ensemble = recall_score(y_val, y_pred_val_ensemble, average='weighted', zero_division=1)\n",
    "f1_val_ensemble = f1_score(y_val, y_pred_val_ensemble, average='weighted', zero_division=1)\n",
    "\n",
    "# Print metrics for the Validation Set\n",
    "print(f\"Validation Set Accuracy (DT Ensemble): {accuracy_val_ensemble}\")\n",
    "print(f\"Validation Set Precision (DT Ensemble): {precision_val_ensemble}\")\n",
    "print(f\"Validation Set Recall (DT Ensemble): {recall_val_ensemble}\")\n",
    "print(f\"Validation Set F1-Score (DT Ensemble): {f1_val_ensemble}\")"
   ]
  },
  {
   "cell_type": "code",
   "execution_count": 270,
   "id": "023ee71f",
   "metadata": {},
   "outputs": [
    {
     "name": "stdout",
     "output_type": "stream",
     "text": [
      "Test Set Accuracy (DT Ensemble): 0.9873214285714286\n",
      "Test Set Precision (DT Ensemble): 0.9874804062331229\n",
      "Test Set Recall (DT Ensemble): 0.9873214285714286\n",
      "Test Set F1-Score (DT Ensemble): 0.987219446457129\n"
     ]
    }
   ],
   "source": [
    "#TEST SET\n",
    "# Calculate Accuracy, Precision, Recall, and F1 Score for the Test Set\n",
    "accuracy_test_ensemble = accuracy_score(y_test, y_pred_test_ensemble)\n",
    "precision_test_ensemble = precision_score(y_test, y_pred_test_ensemble, average='weighted', zero_division=1)\n",
    "recall_test_ensemble = recall_score(y_test, y_pred_test_ensemble, average='weighted', zero_division=1)\n",
    "f1_test_ensemble = f1_score(y_test, y_pred_test_ensemble, average='weighted', zero_division=1)\n",
    "\n",
    "print(f\"Test Set Accuracy (DT Ensemble): {accuracy_test_ensemble}\")\n",
    "print(f\"Test Set Precision (DT Ensemble): {precision_test_ensemble}\")\n",
    "print(f\"Test Set Recall (DT Ensemble): {recall_test_ensemble}\")\n",
    "print(f\"Test Set F1-Score (DT Ensemble): {f1_test_ensemble}\")\n"
   ]
  },
  {
   "cell_type": "code",
   "execution_count": 271,
   "id": "260ff754",
   "metadata": {},
   "outputs": [
    {
     "name": "stdout",
     "output_type": "stream",
     "text": [
      "  Configuration  Training Accuracy  Validation Accuracy  Test Accuracy\n",
      "0      (5, 0.1)           0.977344             0.966518       0.961607\n",
      "1      (5, 0.3)           0.996987             0.983929       0.980893\n",
      "2      (5, 0.5)           0.998214             0.987723       0.983750\n",
      "3     (15, 0.1)           0.969922             0.957366       0.955714\n",
      "4     (15, 0.3)           0.998996             0.985045       0.983571\n",
      "5     (15, 0.5)           0.999665             0.988393       0.985536\n",
      "6     (25, 0.1)           0.968750             0.956027       0.953750\n",
      "7     (25, 0.3)           0.999554             0.985491       0.983214\n",
      "8     (25, 0.5)           0.999888             0.989509       0.987321\n"
     ]
    }
   ],
   "source": [
    "# Creating a DataFrame from the dictionary\n",
    "accuracy_df = pd.DataFrame.from_dict(accuracy_results, orient='index', columns=['Training Accuracy', 'Validation Accuracy', 'Test Accuracy'])\n",
    "\n",
    "# Resetting the index to include the configuration in the DataFrame\n",
    "accuracy_df.reset_index(inplace=True)\n",
    "accuracy_df.rename(columns={'index': 'Configuration'}, inplace=True)\n",
    "\n",
    "# Printing the DataFrame\n",
    "print(accuracy_df)"
   ]
  },
  {
   "cell_type": "markdown",
   "id": "f8c44acc",
   "metadata": {},
   "source": [
    "# PLOT 2 - I THINK THIS IS THE CORRECT ONE"
   ]
  },
  {
   "cell_type": "code",
   "execution_count": 294,
   "id": "80bc9466",
   "metadata": {
    "scrolled": true
   },
   "outputs": [
    {
     "data": {
      "image/png": "[encoded data removed]",
      "text/plain": [
       "<Figure size 1000x600 with 1 Axes>"
      ]
     },
     "metadata": {},
     "output_type": "display_data"
    }
   ],
   "source": [
    "# Replace these with your actual data\n",
    "val_accuracy_5 = {\n",
    "    0.1: accuracy1[1],  # 0.966518 Accuracy when max_features = 0.1\n",
    "    0.3: accuracy2[1],  #0.983929, Accuracy when max_features = 0.3\n",
    "    0.5: accuracy3[1]  #0.987723, Accuracy when max_features = 0.5\n",
    "}\n",
    "\n",
    "# Replace these with the average accuracies for comparison\n",
    "avg_val_accuracy = {\n",
    "    \n",
    "      0.1: (accuracy1[1] + accuracy4[1] + accuracy7[1]) / 3,   #0.1: (0.966518 + 0.957366 + 0.956027) / 3,\n",
    "      0.3: (accuracy2[1] + accuracy5[1] + accuracy8[1]) / 3,   #0.3: (0.983929 + 0.985045 + 0.985491) / 3,\n",
    "      0.5: (accuracy3[1] + accuracy6[1] + accuracy9[1]) / 3    #0.5: (0.987723 + 0.988393 + 0.989509) / 3\n",
    " \n",
    "\n",
    "}\n",
    "\n",
    "# Preparing data for plotting\n",
    "max_features_set = sorted(val_accuracy_5.keys())\n",
    "accuracy_val_5 = [val_accuracy_5[mf] for mf in max_features_set]\n",
    "accuracy_avg_val = [avg_val_accuracy[mf] for mf in max_features_set]\n",
    "\n",
    "# Plotting\n",
    "plt.figure(figsize=(10, 6))\n",
    "bar_width = 0.3\n",
    "index = np.arange(len(max_features_set))\n",
    "\n",
    "# Plotting the bars for each max_features setting\n",
    "plt.bar(index, accuracy_val_5, bar_width, label='Validation Accuracy (n_base_classifiers = 5)', color='purple')\n",
    "plt.bar(index + bar_width, accuracy_avg_val, bar_width, label='Average Validation Accuracy', color='orange')\n",
    "\n",
    "plt.xlabel('Max Features')\n",
    "plt.ylabel('Accuracy')\n",
    "plt.title('Comparison of Validation Accuracies for Different Max Features')\n",
    "plt.xticks(index + bar_width / 2, max_features_set)\n",
    "plt.legend()\n",
    "plt.grid(True)\n",
    "plt.show()\n"
   ]
  },
  {
   "cell_type": "markdown",
   "id": "6b03b7c0",
   "metadata": {},
   "source": [
    "## Plot 3: \n",
    "Accuracy for different numbers of base classifiers using a fixed max_features value."
   ]
  },
  {
   "cell_type": "code",
   "execution_count": 301,
   "id": "b50c9793",
   "metadata": {},
   "outputs": [
    {
     "data": {
      "image/png": "[encoded data removed]",
      "text/plain": [
       "<Figure size 1000x600 with 1 Axes>"
      ]
     },
     "metadata": {},
     "output_type": "display_data"
    }
   ],
   "source": [
    "import matplotlib.pyplot as plt\n",
    "\n",
    "# Your actual data for max_features = 0.3 with different n_base_classifiers\n",
    "train_accuracies = {\n",
    "    5:   accuracy2[0],    #0.996987, Training accuracy for n_base_classifiers = 5\n",
    "    15:  accuracy5[0],    #0.998996, Training accuracy for n_base_classifiers = 15\n",
    "    25:  accuracy8[0]     #0.999554, Training accuracy for n_base_classifiers = 25\n",
    "}\n",
    "val_accuracies = {\n",
    "    5:  accuracy2[1],   #0.983929, Validation accuracy for n_base_classifiers = 5\n",
    "    15: accuracy5[1],   #0.985045, Validation accuracy for n_base_classifiers = 15\n",
    "    25: accuracy8[1]    #0.985491, Validation accuracy for n_base_classifiers = 25\n",
    "}\n",
    "test_accuracies = {\n",
    "    5:  accuracy2[2],       #0.980893, Test accuracy for n_base_classifiers = 5\n",
    "    15: accuracy5[2],       #0.983571, Test accuracy for n_base_classifiers = 15\n",
    "    25: accuracy8[2]        #0.983214, Test accuracy for n_base_classifiers = 25\n",
    "}\n",
    "\n",
    "n_base_classifiers = [5, 15, 25]  # Different numbers of base classifiers used\n",
    "\n",
    "# Plotting\n",
    "plt.figure(figsize=(10, 6))\n",
    "plt.plot(n_base_classifiers, [train_accuracies[n] for n in n_base_classifiers], label='Training Accuracy', marker='o', color='orange')\n",
    "plt.plot(n_base_classifiers, [val_accuracies[n] for n in n_base_classifiers], label='Validation Accuracy', marker='o', color='purple')\n",
    "plt.plot(n_base_classifiers, [test_accuracies[n] for n in n_base_classifiers], label='Test Accuracy', marker='o', color='red')\n",
    "\n",
    "plt.xlabel('Number of Base Classifiers')\n",
    "plt.ylabel('Accuracy')\n",
    "plt.title('Accuracy for Different Numbers of Base Classifiers (max_features = 0.3)')\n",
    "plt.xticks(n_base_classifiers)\n",
    "plt.legend()\n",
    "plt.grid(True)\n",
    "plt.show()\n"
   ]
  }
 ],
 "metadata": {
  "kernelspec": {
   "display_name": "Python 3 (ipykernel)",
   "language": "python",
   "name": "python3"
  },
  "language_info": {
   "codemirror_mode": {
    "name": "ipython",
    "version": 3
   },
   "file_extension": ".py",
   "mimetype": "text/x-python",
   "name": "python",
   "nbconvert_exporter": "python",
   "pygments_lexer": "ipython3",
   "version": "3.11.5"
  }
 },
 "nbformat": 4,
 "nbformat_minor": 5
}
